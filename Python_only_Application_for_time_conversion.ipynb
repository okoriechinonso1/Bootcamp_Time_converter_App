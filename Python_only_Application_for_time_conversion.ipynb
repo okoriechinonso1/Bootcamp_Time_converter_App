{
 "cells": [
  {
   "cell_type": "markdown",
   "id": "5c660af3",
   "metadata": {},
   "source": [
    "# One-Campus Project on Introduction to Data Analysis\n",
    "\n",
    "### A Python-only Application for converting Bootcamp times from EST to any requested User Timezone"
   ]
  },
  {
   "cell_type": "markdown",
   "id": "9163c2bf",
   "metadata": {},
   "source": [
    "-First step is to import pandas and numpy libraries to be used for the project"
   ]
  },
  {
   "cell_type": "code",
   "execution_count": 5,
   "id": "00c616f0",
   "metadata": {},
   "outputs": [],
   "source": [
    "import pandas as pd\n",
    "import numpy as np"
   ]
  },
  {
   "cell_type": "code",
   "execution_count": 6,
   "id": "a526bc36",
   "metadata": {},
   "outputs": [],
   "source": [
    "# Reading in the countries dataset into pandas dataframe\n",
    "df = pd.read_csv('c://datasets/timezones_Detailed_588_Countries.csv')"
   ]
  },
  {
   "cell_type": "code",
   "execution_count": 9,
   "id": "b04a6f8f",
   "metadata": {},
   "outputs": [
    {
     "data": {
      "text/html": [
       "<div>\n",
       "<style scoped>\n",
       "    .dataframe tbody tr th:only-of-type {\n",
       "        vertical-align: middle;\n",
       "    }\n",
       "\n",
       "    .dataframe tbody tr th {\n",
       "        vertical-align: top;\n",
       "    }\n",
       "\n",
       "    .dataframe thead th {\n",
       "        text-align: right;\n",
       "    }\n",
       "</style>\n",
       "<table border=\"1\" class=\"dataframe\">\n",
       "  <thead>\n",
       "    <tr style=\"text-align: right;\">\n",
       "      <th></th>\n",
       "      <th>timezone</th>\n",
       "      <th>offset</th>\n",
       "      <th>offset_dst(Day light Savings)</th>\n",
       "    </tr>\n",
       "  </thead>\n",
       "  <tbody>\n",
       "    <tr>\n",
       "      <th>0</th>\n",
       "      <td>Africa/Abidjan</td>\n",
       "      <td>0</td>\n",
       "      <td>0</td>\n",
       "    </tr>\n",
       "    <tr>\n",
       "      <th>1</th>\n",
       "      <td>Africa/Accra</td>\n",
       "      <td>0</td>\n",
       "      <td>0</td>\n",
       "    </tr>\n",
       "    <tr>\n",
       "      <th>2</th>\n",
       "      <td>Africa/Addis_Ababa</td>\n",
       "      <td>10800</td>\n",
       "      <td>10800</td>\n",
       "    </tr>\n",
       "    <tr>\n",
       "      <th>3</th>\n",
       "      <td>Africa/Algiers</td>\n",
       "      <td>3600</td>\n",
       "      <td>3600</td>\n",
       "    </tr>\n",
       "    <tr>\n",
       "      <th>4</th>\n",
       "      <td>Africa/Asmara</td>\n",
       "      <td>10800</td>\n",
       "      <td>10800</td>\n",
       "    </tr>\n",
       "  </tbody>\n",
       "</table>\n",
       "</div>"
      ],
      "text/plain": [
       "             timezone  offset  offset_dst(Day light Savings)\n",
       "0      Africa/Abidjan       0                              0\n",
       "1        Africa/Accra       0                              0\n",
       "2  Africa/Addis_Ababa   10800                          10800\n",
       "3      Africa/Algiers    3600                           3600\n",
       "4       Africa/Asmara   10800                          10800"
      ]
     },
     "execution_count": 9,
     "metadata": {},
     "output_type": "execute_result"
    }
   ],
   "source": [
    "df.head()"
   ]
  },
  {
   "cell_type": "markdown",
   "id": "e94c0d7c",
   "metadata": {},
   "source": [
    "-The next step is to reduce the offset column to hours unit"
   ]
  },
  {
   "cell_type": "code",
   "execution_count": 10,
   "id": "71bb4452",
   "metadata": {
    "scrolled": true
   },
   "outputs": [
    {
     "data": {
      "text/plain": [
       "0      0\n",
       "1      0\n",
       "2      3\n",
       "3      1\n",
       "4      3\n",
       "      ..\n",
       "583    0\n",
       "584    0\n",
       "585    3\n",
       "586    0\n",
       "587    0\n",
       "Name: offset, Length: 588, dtype: int32"
      ]
     },
     "execution_count": 10,
     "metadata": {},
     "output_type": "execute_result"
    }
   ],
   "source": [
    "# Since UTC offset is represented in seconds, lets convert to hours offset\n",
    "time_sec_divisor = 3600\n",
    "df.offset = (df.offset / time_sec_divisor).astype(int)\n",
    "df.offset"
   ]
  },
  {
   "cell_type": "code",
   "execution_count": 11,
   "id": "8845cda1",
   "metadata": {},
   "outputs": [
    {
     "data": {
      "text/plain": [
       "['Africa/Abidjan',\n",
       " 'Africa/Accra',\n",
       " 'Africa/Addis_Ababa',\n",
       " 'Africa/Algiers',\n",
       " 'Africa/Asmara',\n",
       " 'Africa/Asmera',\n",
       " 'Africa/Bamako',\n",
       " 'Africa/Bangui',\n",
       " 'Africa/Banjul',\n",
       " 'Africa/Bissau']"
      ]
     },
     "execution_count": 11,
     "metadata": {},
     "output_type": "execute_result"
    }
   ],
   "source": [
    "# Creating a list for countries in the UTC timezone using the dataframe offset series\n",
    "countries = df['timezone'].tolist()\n",
    "countries[:10]"
   ]
  },
  {
   "cell_type": "code",
   "execution_count": 12,
   "id": "d615e49e",
   "metadata": {},
   "outputs": [
    {
     "data": {
      "text/plain": [
       "[0, 0, 3, 1, 3, 3, 0, 1, 0, 0]"
      ]
     },
     "execution_count": 12,
     "metadata": {},
     "output_type": "execute_result"
    }
   ],
   "source": [
    "# Creating a list for the timezone offset of the countries from UTC\n",
    "countryOffSetList = df['offset'].tolist()\n",
    "countryOffSetList[:10]"
   ]
  },
  {
   "cell_type": "code",
   "execution_count": 13,
   "id": "64215eec",
   "metadata": {},
   "outputs": [
    {
     "name": "stdout",
     "output_type": "stream",
     "text": [
      "['Abidjan', 'Accra', 'Addis_Ababa', 'Algiers', 'Asmara', 'Asmera', 'Bamako', 'Bangui', 'Banjul', 'Bissau', 'Blantyre', 'Brazzaville', 'Bujumbura', 'Cairo', 'Casablanca', 'Ceuta', 'Conakry', 'Dakar', 'Dar_es_Salaam', 'Djibouti']\n"
     ]
    }
   ],
   "source": [
    "# Looping through the countries list to\n",
    "countryList = []\n",
    "\n",
    "for country in countries:\n",
    "    if '/' in country:\n",
    "        countryParts = country.split('/')[1]\n",
    "        countryList.append(countryParts)\n",
    "    else:\n",
    "        countryParts = country\n",
    "print(countryList[:20])"
   ]
  },
  {
   "cell_type": "code",
   "execution_count": 14,
   "id": "790aa2fc",
   "metadata": {
    "scrolled": true
   },
   "outputs": [
    {
     "name": "stdout",
     "output_type": "stream",
     "text": [
      "{'Abidjan': 0, 'Accra': 0, 'Addis_Ababa': 3, 'Algiers': 1, 'Asmara': 3, 'Asmera': 3, 'Bamako': 0, 'Bangui': 1, 'Banjul': 0, 'Bissau': 0, 'Blantyre': 2, 'Brazzaville': 1, 'Bujumbura': 2, 'Cairo': 2, 'Casablanca': 0, 'Ceuta': 1, 'Conakry': 0, 'Dakar': 0, 'Dar_es_Salaam': 3, 'Djibouti': 3, 'Douala': 1, 'El_Aaiun': 0, 'Freetown': 0, 'Gaborone': 2, 'Harare': 2, 'Johannesburg': 2, 'Juba': 3, 'Kampala': 3, 'Khartoum': 3, 'Kigali': 2, 'Kinshasa': 1, 'Lagos': 1, 'Libreville': 1, 'Lome': 0, 'Luanda': 1, 'Lubumbashi': 2, 'Lusaka': 2, 'Malabo': 1, 'Maputo': 2, 'Maseru': 2, 'Mbabane': 2, 'Mogadishu': 3, 'Monrovia': 0, 'Nairobi': 3, 'Ndjamena': 1, 'Niamey': 1, 'Nouakchott': 0, 'Ouagadougou': 0, 'Porto-Novo': 1, 'Sao_Tome': 0, 'Timbuktu': 0, 'Tripoli': 2, 'Tunis': 1, 'Windhoek': 1, 'Adak': -10, 'Anchorage': -9, 'Anguilla': -4, 'Antigua': -4, 'Araguaina': -3, 'Argentina': -3, 'Aruba': -4, 'Asuncion': -3, 'Atikokan': -5, 'Atka': -10, 'Bahia': -3, 'Bahia_Banderas': -6, 'Barbados': -4, 'Belem': -3, 'Belize': -6, 'Blanc-Sablon': -4, 'Boa_Vista': -4, 'Bogota': -5, 'Boise': -7, 'Buenos_Aires': -3, 'Cambridge_Bay': -7, 'Campo_Grande': -4, 'Cancun': -5, 'Caracas': -4, 'Catamarca': -3, 'Cayenne': -3, 'Cayman': -5, 'Chicago': -6, 'Chihuahua': -7, 'Coral_Harbour': -5, 'Cordoba': -3, 'Costa_Rica': -6, 'Creston': -7, 'Cuiaba': -4, 'Curacao': -4, 'Danmarkshavn': 0, 'Dawson': -8, 'Dawson_Creek': -7, 'Denver': -7, 'Detroit': -5, 'Dominica': -4, 'Edmonton': -7, 'Eirunepe': -5, 'El_Salvador': -6, 'Ensenada': -8, 'Fort_Nelson': -7, 'Fort_Wayne': -5, 'Fortaleza': -3, 'Glace_Bay': -4, 'Godthab': -3, 'Goose_Bay': -4, 'Grand_Turk': -4, 'Grenada': -4, 'Guadeloupe': -4, 'Guatemala': -6, 'Guayaquil': -5, 'Guyana': -4, 'Halifax': -4, 'Havana': -5, 'Hermosillo': -7, 'Indiana': -5, 'Indianapolis': -5, 'Inuvik': -7, 'Iqaluit': -5, 'Jamaica': -5, 'Jujuy': -3, 'Juneau': -9, 'Kentucky': -5, 'Knox_IN': -6, 'Kralendijk': -4, 'La_Paz': -4, 'Lima': -5, 'Los_Angeles': -8, 'Louisville': -5, 'Lower_Princes': -4, 'Maceio': -3, 'Managua': -6, 'Manaus': -4, 'Marigot': -4, 'Martinique': -4, 'Matamoros': -6, 'Mazatlan': -7, 'Mendoza': -3, 'Menominee': -6, 'Merida': -6, 'Metlakatla': -8, 'Mexico_City': -6, 'Miquelon': -3, 'Moncton': -4, 'Monterrey': -6, 'Montevideo': -3, 'Montreal': -5, 'Montserrat': -4, 'Nassau': -5, 'New_York': -5, 'Nipigon': -5, 'Nome': -9, 'Noronha': -2, 'North_Dakota': -6, 'Ojinaga': -7, 'Panama': -5, 'Pangnirtung': -5, 'Paramaribo': -3, 'Phoenix': -7, 'Port-au-Prince': -5, 'Port_of_Spain': -4, 'Porto_Acre': -5, 'Porto_Velho': -4, 'Puerto_Rico': -4, 'Rainy_River': -6, 'Rankin_Inlet': -6, 'Recife': -3, 'Regina': -6, 'Resolute': -6, 'Rio_Branco': -5, 'Rosario': -3, 'Santa_Isabel': -8, 'Santarem': -3, 'Santiago': -3, 'Santo_Domingo': -4, 'Sao_Paulo': -3, 'Scoresbysund': -1, 'Shiprock': -7, 'Sitka': -9, 'St_Barthelemy': -4, 'St_Johns': -3, 'St_Kitts': -4, 'St_Lucia': -4, 'St_Thomas': -4, 'St_Vincent': -4, 'Swift_Current': -6, 'Tegucigalpa': -6, 'Thule': -4, 'Thunder_Bay': -5, 'Tijuana': -8, 'Toronto': -5, 'Tortola': -4, 'Vancouver': -8, 'Virgin': -4, 'Whitehorse': -8, 'Winnipeg': -6, 'Yakutat': -9, 'Yellowknife': -7, 'Casey': 8, 'Davis': 7, 'DumontDUrville': 10, 'Macquarie': 11, 'Mawson': 5, 'McMurdo': 12, 'Palmer': -3, 'Rothera': -3, 'South_Pole': 12, 'Syowa': 3, 'Troll': 0, 'Vostok': 6, 'Longyearbyen': 1, 'Aden': 3, 'Almaty': 6, 'Amman': 2, 'Anadyr': 12, 'Aqtau': 5, 'Aqtobe': 5, 'Ashgabat': 5, 'Ashkhabad': 5, 'Baghdad': 3, 'Bahrain': 3, 'Baku': 4, 'Bangkok': 7, 'Beirut': 2, 'Bishkek': 6, 'Brunei': 8, 'Calcutta': 5, 'Chita': 8, 'Choibalsan': 8, 'Chongqing': 8, 'Chungking': 8, 'Colombo': 5, 'Dacca': 6, 'Damascus': 2, 'Dhaka': 6, 'Dili': 9, 'Dubai': 4, 'Dushanbe': 5, 'Gaza': 2, 'Harbin': 8, 'Hebron': 2, 'Ho_Chi_Minh': 7, 'Hong_Kong': 8, 'Hovd': 7, 'Irkutsk': 8, 'Istanbul': 1, 'Jakarta': 7, 'Jayapura': 9, 'Jerusalem': 2, 'Kabul': 4, 'Kamchatka': 12, 'Karachi': 5, 'Kashgar': 6, 'Kathmandu': 5, 'Katmandu': 5, 'Khandyga': 9, 'Kolkata': 5, 'Krasnoyarsk': 7, 'Kuala_Lumpur': 8, 'Kuching': 8, 'Kuwait': 3, 'Macao': 8, 'Macau': 8, 'Magadan': 10, 'Makassar': 8, 'Manila': 8, 'Muscat': 4, 'Nicosia': 0, 'Novokuznetsk': 7, 'Novosibirsk': 6, 'Omsk': 6, 'Oral': 5, 'Phnom_Penh': 7, 'Pontianak': 7, 'Pyongyang': 8, 'Qatar': 3, 'Qyzylorda': 6, 'Rangoon': 6, 'Riyadh': 3, 'Riyadh87': 0, 'Riyadh88': 0, 'Riyadh89': -10, 'Saigon': 7, 'Sakhalin': 10, 'Samarkand': 5, 'Seoul': 9, 'Shanghai': 8, 'Singapore': 8, 'Srednekolymsk': 11, 'Taipei': 8, 'Tashkent': 5, 'Tbilisi': 4, 'Tehran': 3, 'Tel_Aviv': 2, 'Thimbu': 6, 'Thimphu': 6, 'Tokyo': 9, 'Ujung_Pandang': 8, 'Ulaanbaatar': 8, 'Ulan_Bator': 8, 'Urumqi': 6, 'Vientiane': 7, 'Vladivostok': 10, 'Yakutsk': 9, 'Yekaterinburg': 5, 'Yerevan': 4, 'Azores': -1, 'Bermuda': -4, 'Canary': 0, 'Cape_Verde': -1, 'Faeroe': 0, 'Faroe': 0, 'Jan_Mayen': 1, 'Madeira': 0, 'Reykjavik': 0, 'South_Georgia': -2, 'St_Helena': 0, 'Stanley': -3, 'ACT': 10, 'Adelaide': 9, 'Brisbane': 10, 'Broken_Hill': 9, 'Canberra': 10, 'Currie': 10, 'Darwin': 9, 'Eucla': 8, 'Hobart': 10, 'LHI': 10, 'Lindeman': 10, 'Lord_Howe': 10, 'Melbourne': 10, 'NSW': 10, 'North': 9, 'Perth': 8, 'Queensland': 10, 'South': 9, 'Sydney': 10, 'Tasmania': 10, 'Victoria': 10, 'West': -4, 'Yancowinna': 9, 'Acre': -5, 'DeNoronha': -2, 'East': -3, 'Atlantic': 1, 'Central': -9, 'East-Saskatchewan': -4, 'Eastern': 10, 'Mountain': 11, 'Newfoundland': -5, 'Pacific': 12, 'Saskatchewan': -3, 'Yukon': -8, 'Continental': -6, 'EasterIsland': -8, 'GMT': -3, 'GMT+0': -5, 'GMT+1': -5, 'GMT+10': 2, 'GMT+11': -5, 'GMT+12': -5, 'GMT+2': 2, 'GMT+3': 0, 'GMT+4': 0, 'GMT+5': 0, 'GMT+6': -1, 'GMT+7': -10, 'GMT+8': -11, 'GMT+9': -12, 'GMT-0': -2, 'GMT-1': -3, 'GMT-10': -4, 'GMT-11': -5, 'GMT-12': -6, 'GMT-13': -7, 'GMT-14': -8, 'GMT-2': -9, 'GMT-3': 0, 'GMT-4': 1, 'GMT-5': 10, 'GMT-6': 11, 'GMT-7': 12, 'GMT-8': 13, 'GMT-9': 14, 'GMT0': 2, 'Greenwich': 3, 'UCT': 4, 'UTC': 5, 'Universal': 6, 'Zulu': 7, 'Amsterdam': 8, 'Andorra': 9, 'Athens': 0, 'Belfast': 0, 'Belgrade': 0, 'Berlin': 0, 'Bratislava': 0, 'Brussels': 0, 'Bucharest': 1, 'Budapest': 1, 'Busingen': 2, 'Chisinau': 0, 'Copenhagen': 1, 'Dublin': 1, 'Gibraltar': 1, 'Guernsey': 1, 'Helsinki': 2, 'Isle_of_Man': 1, 'Jersey': 2, 'Kaliningrad': 1, 'Kiev': 0, 'Lisbon': 1, 'Ljubljana': 0, 'London': 2, 'Luxembourg': 0, 'Madrid': 2, 'Malta': 0, 'Mariehamn': 2, 'Minsk': 2, 'Monaco': 0, 'Moscow': 1, 'Oslo': 1, 'Paris': 1, 'Podgorica': 1, 'Prague': 2, 'Riga': 3, 'Rome': 1, 'Samara': 3, 'San_Marino': 2, 'Sarajevo': 1, 'Simferopol': 1, 'Skopje': 1, 'Sofia': 1, 'Stockholm': 2, 'Tallinn': 1, 'Tirane': 4, 'Tiraspol': 1, 'Uzhgorod': 1, 'Vaduz': 2, 'Vatican': 1, 'Vienna': 2, 'Vilnius': 1, 'Volgograd': 2, 'Warsaw': 1, 'Zagreb': 2, 'Zaporozhye': 2, 'Zurich': 1, 'Antananarivo': 1, 'Chagos': 1, 'Christmas': 2, 'Cocos': 3, 'Comoro': 1, 'Kerguelen': 1, 'Mahe': 2, 'Maldives': 1, 'Mauritius': 0, 'Mayotte': 0, 'Reunion': 0, 'BajaNorte': 0, 'BajaSur': 0, 'General': 0, 'Apia': 8, 'Auckland': 0, 'Bougainville': 3, 'Chatham': 6, 'Chuuk': 7, 'Easter': 6, 'Efate': 3, 'Enderbury': 5, 'Fakaofo': 4, 'Fiji': 5, 'Funafuti': 4, 'Galapagos': 3, 'Gambier': 4, 'Guadalcanal': 3, 'Guam': 2, 'Honolulu': -5, 'Johnston': 9, 'Kiritimati': 12, 'Kosrae': 2, 'Kwajalein': 1, 'Majuro': -7, 'Marquesas': -7, 'Midway': -8, 'Nauru': -7, 'Niue': -6, 'Norfolk': 0, 'Noumea': 0, 'Pago_Pago': 0, 'Palau': 12, 'Pitcairn': 12, 'Ponape': 0, 'Port_Moresby': 0, 'Rarotonga': 0, 'Saipan': 13, 'Samoa': -9, 'Tahiti': 11, 'Tarawa': 12, 'Tongatapu': 10, 'Truk': -5, 'Wake': 11, 'Wallis': 13, 'Yap': 13, 'Alaska': 12, 'Aleutian': 12, 'Arizona': -6, 'East-Indiana': 11, 'Hawaii': -10, 'Indiana-Starke': -10, 'Michigan': 14, 'Pacific-New': 12}\n"
     ]
    }
   ],
   "source": [
    "# Creating a dictionary from the two dataframes\n",
    "countryTimeZoneDict = dict(zip(countryList, countryOffSetList))\n",
    "print(countryTimeZoneDict)"
   ]
  },
  {
   "cell_type": "code",
   "execution_count": 15,
   "id": "acdaaa81",
   "metadata": {},
   "outputs": [
    {
     "data": {
      "text/html": [
       "<div>\n",
       "<style scoped>\n",
       "    .dataframe tbody tr th:only-of-type {\n",
       "        vertical-align: middle;\n",
       "    }\n",
       "\n",
       "    .dataframe tbody tr th {\n",
       "        vertical-align: top;\n",
       "    }\n",
       "\n",
       "    .dataframe thead th {\n",
       "        text-align: right;\n",
       "    }\n",
       "</style>\n",
       "<table border=\"1\" class=\"dataframe\">\n",
       "  <thead>\n",
       "    <tr style=\"text-align: right;\">\n",
       "      <th></th>\n",
       "      <th>Month</th>\n",
       "      <th>Date</th>\n",
       "      <th>Bootcamp Time (EST)</th>\n",
       "      <th>Cohort</th>\n",
       "      <th>Program</th>\n",
       "      <th>Topic</th>\n",
       "    </tr>\n",
       "  </thead>\n",
       "  <tbody>\n",
       "    <tr>\n",
       "      <th>0</th>\n",
       "      <td>July</td>\n",
       "      <td>2022-07-07</td>\n",
       "      <td>6.00 AM</td>\n",
       "      <td>Cohort 14</td>\n",
       "      <td>Data Analytics</td>\n",
       "      <td>Python Variables</td>\n",
       "    </tr>\n",
       "    <tr>\n",
       "      <th>1</th>\n",
       "      <td>July</td>\n",
       "      <td>2022-07-08</td>\n",
       "      <td>10.00 AM</td>\n",
       "      <td>Cohort 15</td>\n",
       "      <td>Data Science/ML</td>\n",
       "      <td>Data Cleaning</td>\n",
       "    </tr>\n",
       "    <tr>\n",
       "      <th>2</th>\n",
       "      <td>July</td>\n",
       "      <td>2022-07-07</td>\n",
       "      <td>6.00 AM</td>\n",
       "      <td>Cohort 14</td>\n",
       "      <td>Data Science/ML</td>\n",
       "      <td>Python Variables</td>\n",
       "    </tr>\n",
       "    <tr>\n",
       "      <th>3</th>\n",
       "      <td>July</td>\n",
       "      <td>2022-07-08</td>\n",
       "      <td>10.00 AM</td>\n",
       "      <td>Cohort 15</td>\n",
       "      <td>Data Analytics</td>\n",
       "      <td>Data Visualization Project 1</td>\n",
       "    </tr>\n",
       "    <tr>\n",
       "      <th>4</th>\n",
       "      <td>July</td>\n",
       "      <td>2022-07-21</td>\n",
       "      <td>6.00 AM</td>\n",
       "      <td>Cohort 14</td>\n",
       "      <td>Data Analytics</td>\n",
       "      <td>Python Container</td>\n",
       "    </tr>\n",
       "  </tbody>\n",
       "</table>\n",
       "</div>"
      ],
      "text/plain": [
       "  Month       Date  Bootcamp Time (EST)     Cohort         Program   \\\n",
       "0   July 2022-07-07             6.00 AM  Cohort 14   Data Analytics   \n",
       "1   July 2022-07-08            10.00 AM  Cohort 15  Data Science/ML   \n",
       "2   July 2022-07-07             6.00 AM  Cohort 14  Data Science/ML   \n",
       "3   July 2022-07-08            10.00 AM  Cohort 15   Data Analytics   \n",
       "4   July 2022-07-21             6.00 AM  Cohort 14   Data Analytics   \n",
       "\n",
       "                         Topic   \n",
       "0              Python Variables  \n",
       "1                 Data Cleaning  \n",
       "2              Python Variables  \n",
       "3  Data Visualization Project 1  \n",
       "4              Python Container  "
      ]
     },
     "execution_count": 15,
     "metadata": {},
     "output_type": "execute_result"
    }
   ],
   "source": [
    "# Reading in the Bootcamp Schedule dataset into pandas dataframe\n",
    "df_bootcamp = pd.read_excel('C://datasets/BootcampSchedule.xlsx')\n",
    "df_bootcamp.head()"
   ]
  },
  {
   "cell_type": "code",
   "execution_count": 181,
   "id": "cbb49b89",
   "metadata": {},
   "outputs": [],
   "source": [
    "# creating lists to store information about upcoming bootcamps by program type:\n",
    "# (Data Science, Machine learning, and Data Analytics)\n",
    "timedata = df_bootcamp['Bootcamp Time (EST)'].tolist()\n",
    "cohortList = df_bootcamp.Cohort.tolist()"
   ]
  },
  {
   "cell_type": "code",
   "execution_count": 186,
   "id": "da6617aa",
   "metadata": {},
   "outputs": [],
   "source": [
    "monthList = ['July','July','July','July','July','July','July','July','August','August','August','August','August','August','August','August','September','September','September','September','September','September','September','September','September','September','September']\n",
    "dateList = ['7-Jul','8-Jul','7-Jul','8-Jul','21-Jul','21-Jul','22-Jul','22-Jul','4-Aug','4-Aug','5-Aug','5-Aug','18-Aug','18-Aug','19-Aug','19-Aug','1-Sep','1-Sep','2-Sep','2-Sep','15-Sep','15-Sep','16-Sep','16-Sep','29-Sep','29-Sep','30-Sep','30-Sep']\n",
    "programList = ['Data Analytics','Data Science/ML','Data Science/ML','Data Analytics','Data Analytics','Data Science/ML','Data Science/ML','Data Analytics','Data Analytics','Data Science/ML','Data Analytics','Data Analytics','Data Science/ML','Data Science/ML','Data Analytics','Data Analytics','Data Science/ML','Data Science/ML','Data Analytics','Data Analytics','Data Science/ML','Data Science/ML','Data Analytics','Data Analytics','Data Science/ML','Data Science/ML','Data Analytics']"
   ]
  },
  {
   "cell_type": "code",
   "execution_count": 184,
   "id": "d9195da7",
   "metadata": {},
   "outputs": [
    {
     "name": "stdout",
     "output_type": "stream",
     "text": [
      "['6.00', '10.00', '6.00', '10.00', '6.00', '10.00', '6.00', '10.00', '6.00', '10.00', '6.00', '10.00', '6.00', '10.00', '6.00', '10.00', '6.00', '10.00', '6.00', '10.00', '6.00', '10.00', '6.00', '10.00', '6.00', '10.00', '6.00', '10.00']\n"
     ]
    }
   ],
   "source": [
    "# Dropping off the 'AM' from the the timeList items\n",
    "timeList = []\n",
    "for time in timedata:\n",
    "    if ' ' in time:\n",
    "        timing = time.split(' ')[0]\n",
    "        timeList.append(timing)\n",
    "    else:\n",
    "        timing = time\n",
    "print(timeList)"
   ]
  },
  {
   "cell_type": "code",
   "execution_count": 188,
   "id": "08408a28",
   "metadata": {},
   "outputs": [
    {
     "name": "stdout",
     "output_type": "stream",
     "text": [
      "['July', 'July', 'July', 'July', 'July', 'July', 'July', 'July', 'August', 'August', 'August', 'August', 'August', 'August', 'August', 'August', 'September', 'September', 'September', 'September', 'September', 'September', 'September', 'September', 'September', 'September', 'September']\n",
      "['7-Jul', '8-Jul', '7-Jul', '8-Jul', '21-Jul', '21-Jul', '22-Jul', '22-Jul', '4-Aug', '4-Aug', '5-Aug', '5-Aug', '18-Aug', '18-Aug', '19-Aug', '19-Aug', '1-Sep', '1-Sep', '2-Sep', '2-Sep', '15-Sep', '15-Sep', '16-Sep', '16-Sep', '29-Sep', '29-Sep', '30-Sep', '30-Sep']\n",
      "['6.00', '10.00', '6.00', '10.00', '6.00', '10.00', '6.00', '10.00', '6.00', '10.00', '6.00', '10.00', '6.00', '10.00', '6.00', '10.00', '6.00', '10.00', '6.00', '10.00', '6.00', '10.00', '6.00', '10.00', '6.00', '10.00', '6.00', '10.00']\n",
      "['Cohort 14', 'Cohort 15', 'Cohort 14', 'Cohort 15', 'Cohort 14', 'Cohort 15', 'Cohort 14', 'Cohort 15', 'Cohort 14', 'Cohort 15', 'Cohort 14', 'Cohort 15', 'Cohort 14', 'Cohort 15', 'Cohort 14', 'Cohort 15', 'Cohort 14', 'Cohort 15', 'Cohort 14', 'Cohort 15', 'Cohort 14', 'Cohort 15', 'Cohort 14', 'Cohort 15', 'Cohort 14', 'Cohort 15', 'Cohort 14', 'Cohort 15']\n",
      "['Data Analytics', 'Data Science/ML', 'Data Science/ML', 'Data Analytics', 'Data Analytics', 'Data Science/ML', 'Data Science/ML', 'Data Analytics', 'Data Analytics', 'Data Science/ML', 'Data Analytics', 'Data Analytics', 'Data Science/ML', 'Data Science/ML', 'Data Analytics', 'Data Analytics', 'Data Science/ML', 'Data Science/ML', 'Data Analytics', 'Data Analytics', 'Data Science/ML', 'Data Science/ML', 'Data Analytics', 'Data Analytics', 'Data Science/ML', 'Data Science/ML', 'Data Analytics']\n"
     ]
    }
   ],
   "source": [
    "print(monthList)\n",
    "print(dateList)\n",
    "print(timeList)\n",
    "print(cohortList)\n",
    "print(programList)"
   ]
  },
  {
   "cell_type": "markdown",
   "id": "fd0ba043",
   "metadata": {},
   "source": [
    "### Time functions below was provided by Prof Samuel Omeike who is the Bootcamp Instructor"
   ]
  },
  {
   "cell_type": "code",
   "execution_count": 195,
   "id": "0d867a26",
   "metadata": {},
   "outputs": [],
   "source": [
    "import datetime\n",
    "from datetime import time\n",
    "\n",
    "#function to recieve user input time\n",
    "def userTimeSpec():\n",
    "    reqTime = input('provide required date in the format; YYYY, MM,DD, HH, mm')\n",
    "    trimTime = ''.join(reqTime.split()) # removing any white spaces in user input. First split string by white spaces\n",
    "    timeParts = trimTime.split(',')# spliting user time input by commas\n",
    "    # extracting time parts and converting to integers since user input is always a string\n",
    "    yyyy = int(timeParts[0])\n",
    "    mm = int(timeParts[1])\n",
    "    dd = int(timeParts[2])\n",
    "    hh = int(timeParts[3])\n",
    "    m = int(timeParts[4])\n",
    "    dt2 = datetime.datetime(yyyy,mm,dd,hh,m) # converting to a datetime format\n",
    "    return dt2\n",
    "\n",
    "#Function to return current date and time\n",
    "def currTimeLong():\n",
    "    today = datetime.datetime.now()\n",
    "    return today\n",
    "\n",
    "# function to return time difference in days hours and minutesabs\n",
    "\n",
    "def timediff(currTime, futureTime):\n",
    "    time_diff = futureTime - currTime\n",
    "    tdays = time_diff.days # get time difference in days\n",
    "    tsecs = time_diff.total_seconds() # get time difference in seconds\n",
    "    thrs = tsecs/(60*60) # get time difference in hours\n",
    "    \n",
    "    return time_diff, tdays, tsecs,thrs # this is returned as a list. Choose what you want to return"
   ]
  },
  {
   "cell_type": "markdown",
   "id": "7ad4eaf6",
   "metadata": {},
   "source": [
    "## The Python-Only Application"
   ]
  },
  {
   "cell_type": "code",
   "execution_count": 201,
   "id": "e36a0f61",
   "metadata": {
    "scrolled": true
   },
   "outputs": [
    {
     "name": "stdout",
     "output_type": "stream",
     "text": [
      "specify monthJuly\n",
      "specify date - format XX-Mon8-Jul\n",
      "specify the bootcamp time in EST - XX.XX AM10.00\n",
      "specify the cohort - format cohort xxCohort 15\n",
      "specify program - Format Data Analytics, Data Science/MLData Science/ML\n",
      "specify the target country or timezone: Amsterdam\n",
      "/n\n",
      " The details of your next bootcamp is as follows: July 8-Jul by 23.0 Amsterdam local time for Cohort 15 Data Science/ML\n",
      "/n\n",
      "provide required date in the format; YYYY, MM,DD, HH, mm2022, 07, 08, 23, 00\n",
      "The specified local time of bootcamp is: 2022-07-08 23:00:00\n"
     ]
    }
   ],
   "source": [
    "# Specifying the input parameters(arguments) to be received from the user\n",
    "\n",
    "userMonth = input('specify month')\n",
    "userDate = input('specify date - format XX-Mon')\n",
    "userTime = input('specify the bootcamp time in EST - XX.XX AM')\n",
    "userCohort = input('specify the cohort - format cohort xx')\n",
    "userProgram = input('specify program - Format Data Analytics, Data Science/ML')\n",
    "userCountry = input('specify the target country or timezone: ')\n",
    "\n",
    "estOffSet = 5 #EST standard timeoffset from UTC\n",
    "\n",
    "# Building a function to convert user input time in EST to the local time of the user based on timezone or country specified\n",
    "def time_converter(userCountry, userTime):\n",
    "    if userCountry in countryTimeZoneDict.keys():\n",
    "        UTCEquiv = userTime + estOffSet # converting the Bootcamp time in EST to UTC equivalent\n",
    "        localTime = UTCEquiv + countryTimeZoneDict[userCountry]\n",
    "        return (localTime)\n",
    "\n",
    "Time = time_converter(userCountry, float(userTime))\n",
    "\n",
    "print('/n')\n",
    "for mn, dt, tim, chort, prog in zip(monthList, dateList, timeList, cohortList, programList):\n",
    "    if userMonth == mn and userDate == dt and userTime == tim and userCohort == chort and userProgram == prog:\n",
    "        print(f' The details of your next bootcamp is as follows: {userMonth} {userDate} by {Time} {userCountry} local time for {userCohort} \\\n",
    "{userProgram}')\n",
    "\n",
    "print('/n')\n",
    "# formatting the bootcamp time using time function\n",
    "bootCampTime = userTimeSpec()\n",
    "print(f'The specified local time of bootcamp is: {bootCampTime}')"
   ]
  },
  {
   "cell_type": "code",
   "execution_count": 202,
   "id": "97ab5a55",
   "metadata": {},
   "outputs": [
    {
     "name": "stdout",
     "output_type": "stream",
     "text": [
      "specify name: okorie\n",
      "specify the email address: nonso@gmail.com\n",
      "specify the country: Amsterdam\n",
      "provide required date in the format; YYYY, MM,DD, HH, mm2022, 07, 08, 23, 00\n",
      "Hi okorie, given the local time in Amsterdam , this is to notify you that your next bootcamp is starting in (datetime.timedelta(days=-22, seconds=24184, microseconds=565968), -22, -1876615.434032, -521.2820650088888)\n"
     ]
    }
   ],
   "source": [
    "# Given the student's name, country, email address, this app also notifies the student of when the next bootcamp will start\n",
    "\n",
    "userName = input('specify name: ')\n",
    "userEmail = input('specify the email address: ')\n",
    "userCountry = input('specify the country: ')\n",
    "\n",
    "hoursToBootcamp = timediff(currTimeLong(), userTimeSpec())\n",
    "\n",
    "print(f'Hi {userName}, given the local time in {userCountry} , this is to notify you that your next bootcamp is starting in {hoursToBootcamp}')"
   ]
  },
  {
   "cell_type": "code",
   "execution_count": null,
   "id": "ac8b353b",
   "metadata": {},
   "outputs": [],
   "source": []
  }
 ],
 "metadata": {
  "kernelspec": {
   "display_name": "Python 3 (ipykernel)",
   "language": "python",
   "name": "python3"
  },
  "language_info": {
   "codemirror_mode": {
    "name": "ipython",
    "version": 3
   },
   "file_extension": ".py",
   "mimetype": "text/x-python",
   "name": "python",
   "nbconvert_exporter": "python",
   "pygments_lexer": "ipython3",
   "version": "3.9.7"
  }
 },
 "nbformat": 4,
 "nbformat_minor": 5
}
